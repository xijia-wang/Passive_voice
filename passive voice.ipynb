{
 "cells": [
  {
   "cell_type": "code",
   "execution_count": 139,
   "metadata": {},
   "outputs": [
    {
     "name": "stdout",
     "output_type": "stream",
     "text": [
      "the number of passive voice used in the research paper is 495\n",
      "the number of passive voice used in the argumentative essay is 350\n"
     ]
    }
   ],
   "source": [
    "#passive voice \n",
    "\n",
    "import nltk \n",
    "\n",
    "#calculate passive voice in the research paper corpus\n",
    "\n",
    "chunkgram = r\"\"\"Chunk: {<VB.?><VBN><VBN>?}\"\"\"\n",
    "chunkparser = nltk.RegexpParser(chunkgram)\n",
    "result = chunkparser.parse(res_tag)\n",
    "\n",
    "chunk_list_res = []\n",
    "for node in result:\n",
    "     if isinstance(node, Tree):\n",
    "            chunk_list_res.append(node)\n",
    "            \n",
    "be_list = [('was', 'VBD'),('is', 'VBZ'),('are', 'VBP'),('were', 'VBD'),('be', 'VB'),('been', 'VBN'),('being', 'VBG')] \n",
    "res_passive =[]\n",
    "for tree in chunk_list_res:\n",
    "    if tree[0] in be_list:\n",
    "        res_passive.append(tree)\n",
    "\n",
    "print('the number of passive voice used in the research paper is' , len(res_passive))\n",
    "\n"
   ]
  }
 ],
 "metadata": {
  "kernelspec": {
   "display_name": "Python 3",
   "language": "python",
   "name": "python3"
  },
  "language_info": {
   "codemirror_mode": {
    "name": "ipython",
    "version": 3
   },
   "file_extension": ".py",
   "mimetype": "text/x-python",
   "name": "python",
   "nbconvert_exporter": "python",
   "pygments_lexer": "ipython3",
   "version": "3.8.3"
  }
 },
 "nbformat": 4,
 "nbformat_minor": 4
}
